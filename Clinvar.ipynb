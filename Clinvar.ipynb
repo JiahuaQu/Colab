{
  "nbformat": 4,
  "nbformat_minor": 0,
  "metadata": {
    "colab": {
      "name": "Untitled0.ipynb",
      "provenance": [],
      "collapsed_sections": [],
      "authorship_tag": "ABX9TyPmVuDt/krzCFUczjjuiNwI",
      "include_colab_link": true
    },
    "kernelspec": {
      "name": "python3",
      "display_name": "Python 3"
    },
    "language_info": {
      "name": "python"
    }
  },
  "cells": [
    {
      "cell_type": "markdown",
      "metadata": {
        "id": "view-in-github",
        "colab_type": "text"
      },
      "source": [
        "<a href=\"https://colab.research.google.com/github/JiahuaQu/Colab/blob/main/Clinvar.ipynb\" target=\"_parent\"><img src=\"https://colab.research.google.com/assets/colab-badge.svg\" alt=\"Open In Colab\"/></a>"
      ]
    },
    {
      "cell_type": "markdown",
      "source": [
        "Ref: https://github.com/matthew-j-schmitz/AR-genes-gnomAD/blob/main/parse_for_filter_steps.py"
      ],
      "metadata": {
        "id": "mWHzac_5Xhcd"
      }
    },
    {
      "cell_type": "code",
      "execution_count": 1,
      "metadata": {
        "colab": {
          "base_uri": "https://localhost:8080/"
        },
        "id": "IYjnDU2rFulF",
        "outputId": "5922ab28-5559-4c9f-dc38-7890bca08d17"
      },
      "outputs": [
        {
          "output_type": "stream",
          "name": "stdout",
          "text": [
            "--2022-06-29 16:35:10--  https://ftp.ncbi.nlm.nih.gov/pub/clinvar/vcf_GRCh37/clinvar.vcf.gz\n",
            "Resolving ftp.ncbi.nlm.nih.gov (ftp.ncbi.nlm.nih.gov)... 130.14.250.7, 130.14.250.11, 2607:f220:41e:250::7, ...\n",
            "Connecting to ftp.ncbi.nlm.nih.gov (ftp.ncbi.nlm.nih.gov)|130.14.250.7|:443... connected.\n",
            "HTTP request sent, awaiting response... 200 OK\n",
            "Length: 58394261 (56M) [application/x-gzip]\n",
            "Saving to: ‘clinvar.vcf.gz’\n",
            "\n",
            "clinvar.vcf.gz      100%[===================>]  55.69M  96.4MB/s    in 0.6s    \n",
            "\n",
            "2022-06-29 16:35:11 (96.4 MB/s) - ‘clinvar.vcf.gz’ saved [58394261/58394261]\n",
            "\n"
          ]
        }
      ],
      "source": [
        "!wget https://ftp.ncbi.nlm.nih.gov/pub/clinvar/vcf_GRCh37/clinvar.vcf.gz"
      ]
    },
    {
      "cell_type": "code",
      "source": [
        "!gzip -dk \"clinvar.vcf.gz\""
      ],
      "metadata": {
        "id": "TBJ-96BLUeWb"
      },
      "execution_count": 9,
      "outputs": []
    },
    {
      "cell_type": "code",
      "source": [
        "import pandas as pd\n",
        "import numpy as np"
      ],
      "metadata": {
        "id": "SosQufpvR9aV"
      },
      "execution_count": 10,
      "outputs": []
    },
    {
      "cell_type": "code",
      "source": [
        "clinvar = open('clinvar.vcf', 'r')"
      ],
      "metadata": {
        "id": "OSZQWAsMKED0"
      },
      "execution_count": 11,
      "outputs": []
    },
    {
      "cell_type": "code",
      "source": [
        "list_non_parsed_plp = []\n",
        "list_of_abbreviated_plp = []\n",
        "desired_info_fields = ['ALLELEID', 'CLNDISDB', 'CLNHGVS', 'CLNSIG', 'CLNVC', 'MC', 'AF_ESP', 'AF_EXAC', 'AF_TGP', 'RS', 'CLNSIGCONF', 'CLNDISDBINCL', 'GENEINFO']"
      ],
      "metadata": {
        "id": "lhSyFD4gSBab"
      },
      "execution_count": 12,
      "outputs": []
    },
    {
      "cell_type": "code",
      "source": [
        "for line in clinvar:\n",
        "\n",
        "    plp_non_conf = False # pathogenic or likely pathogenic with no conflicts\n",
        "\n",
        "    # Remove header lines\n",
        "    if line.startswith(\"#\"):\n",
        "        continue\n",
        "\n",
        "    # Get all fields into separate list item\n",
        "    split_line = line.split(\"\\t\")\n",
        "\n",
        "    # Remove \\n from end of info item\n",
        "    split_line[-1] = split_line[-1].strip(\"\\n\")\n",
        "\n",
        "    # Split info field into component parts\n",
        "    split_info_field = split_line[-1].split(\";\")\n",
        "\n",
        "    # Remove un-split info field\n",
        "    split_line.pop()\n",
        "\n",
        "    # Add each info item to the split line\n",
        "    for info_item in split_info_field:\n",
        "        split_line.append(info_item)\n",
        "\n",
        "    # Find if the line is an autosomal recessive plp with no conflicts\n",
        "    for field in split_line:\n",
        "        if field[0:7] == \"CLNSIG=\":\n",
        "            if (\"athogenic\" in field) and (\"onflict\" not in field):\n",
        "                plp_non_conf = True\n",
        "\n",
        "    # If plp with no conflicts, add it to the list\n",
        "    if plp_non_conf:\n",
        "        list_non_parsed_plp.append(split_line)\n",
        "\n",
        "print(\"Done extracting AR non-conflicting PLP to list_non_parsed_plp\")"
      ],
      "metadata": {
        "colab": {
          "base_uri": "https://localhost:8080/"
        },
        "id": "6Y-lCrifMErG",
        "outputId": "5677c38e-8222-4207-c95f-9955aee43401"
      },
      "execution_count": 13,
      "outputs": [
        {
          "output_type": "stream",
          "name": "stdout",
          "text": [
            "Done extracting AR non-conflicting PLP to list_non_parsed_plp\n"
          ]
        }
      ]
    },
    {
      "cell_type": "code",
      "source": [
        "for line in clinvar:\n",
        "\n",
        "    plp_non_conf = False # pathogenic or likely pathogenic with no conflicts\n",
        "\n",
        "    # Remove header lines\n",
        "    if line.startswith(\"#\"):\n",
        "        continue\n",
        "\n",
        "    # Get all fields into separate list item\n",
        "    split_line = line.split(\"\\t\")\n",
        "\n",
        "    # Remove \\n from end of info item\n",
        "    split_line[-1] = split_line[-1].strip(\"\\n\")\n",
        "\n",
        "    # Split info field into component parts\n",
        "    split_info_field = split_line[-1].split(\";\")\n",
        "\n",
        "    # Remove un-split info field\n",
        "    split_line.pop()\n",
        "\n",
        "    # Add each info item to the split line\n",
        "    for info_item in split_info_field:\n",
        "        split_line.append(info_item)\n",
        "\n",
        "    # Find if the line is an autosomal recessive plp with no conflicts\n",
        "    for field in split_line:\n",
        "        if field[0:7] == \"CLNSIG=\":\n",
        "            if (\"athogenic\" in field) and (\"onflict\" not in field):\n",
        "                plp_non_conf = True\n",
        "\n",
        "    # If plp with no conflicts, add it to the list\n",
        "    if plp_non_conf:\n",
        "        list_non_parsed_plp.append(split_line)\n",
        "\n",
        "print(\"Done extracting AR non-conflicting PLP to list_non_parsed_plp\")"
      ],
      "metadata": {
        "colab": {
          "base_uri": "https://localhost:8080/"
        },
        "id": "gD5UyTpyXodD",
        "outputId": "be18ecc9-798b-4535-f711-a0578b1d056f"
      },
      "execution_count": 14,
      "outputs": [
        {
          "output_type": "stream",
          "name": "stdout",
          "text": [
            "Done extracting AR non-conflicting PLP to list_non_parsed_plp\n"
          ]
        }
      ]
    },
    {
      "cell_type": "code",
      "source": [
        "# Move through plps in list of plp non conflicting entries\n",
        "for plp in list_non_parsed_plp:\n",
        "\n",
        "    # Take CHROM, POS, ID, REF, ALT\n",
        "    abbreviated_plp = [plp[0], plp[1], plp[2], plp[3], plp[4]]\n",
        "\n",
        "    # Move through list of desired info fields\n",
        "    for desired_info_field in desired_info_fields:\n",
        "\n",
        "        # Initialize variable to track whether the variant contains the field\n",
        "        field_exists = False\n",
        "\n",
        "        # Move through the info fields in the current variant\n",
        "        for existing_info_field in plp:\n",
        "\n",
        "            # If the current info field is the desired info field\n",
        "            if existing_info_field.split(\"=\")[0] == desired_info_field:\n",
        "\n",
        "                # Specify that the field exists\n",
        "                field_exists = True\n",
        "\n",
        "                # Add the value of the current info field to the variant\n",
        "                abbreviated_plp.append(existing_info_field.split(\"=\")[1])\n",
        "\n",
        "                continue\n",
        "\n",
        "        # If the desired info field isn't found in the current plp\n",
        "        if field_exists == False:\n",
        "\n",
        "            # Add an empty string to the plp\n",
        "            abbreviated_plp.append(\"\")\n",
        "\n",
        "    # Exclude X, Y, or MT genes to leave only variants of autosomal genes\n",
        "    if abbreviated_plp[0] not in [\"X\", \"Y\", \"MT\"]:\n",
        "\n",
        "        # Append the abbreviated plp variant to the list\n",
        "        list_of_abbreviated_plp.append(abbreviated_plp)"
      ],
      "metadata": {
        "id": "Pf8535pLXzWT"
      },
      "execution_count": 15,
      "outputs": []
    },
    {
      "cell_type": "code",
      "source": [
        "# Create a dataframe for the abbreviated plp variants\n",
        "df = pd.DataFrame(list_of_abbreviated_plp, columns = ['CHROM', 'POS', 'ID', 'REF', 'ALT', 'ALLELEID', 'CLNDISDB', 'CLNHGVS', 'CLNSIG', 'CLNVC', 'MC', 'AF_ESP', 'AF_EXAC', 'AF_TGP', 'RS', 'CLNSIGCONF', 'CLNDISDBINCL', 'GENEINFO'])\n",
        "\n",
        "# Convert the dataframe of plp variants to a csv\n",
        "df.to_csv(\"all_autosomal_plp_non_conf.csv\")\n",
        "\n",
        "print(df)\n",
        "print(df.value_counts('CHROM'))\n",
        "\n",
        "print(\"Done generating df of all abbreviated plps\")"
      ],
      "metadata": {
        "id": "r0cGRfSMYAe8"
      },
      "execution_count": null,
      "outputs": []
    },
    {
      "cell_type": "code",
      "source": [
        "df.head"
      ],
      "metadata": {
        "colab": {
          "base_uri": "https://localhost:8080/"
        },
        "id": "NrQzHKx-f1Xc",
        "outputId": "c92615fc-6ee9-4117-bacc-f7cde908985a"
      },
      "execution_count": 25,
      "outputs": [
        {
          "output_type": "execute_result",
          "data": {
            "text/plain": [
              "<bound method NDFrame.head of        CHROM       POS       ID REF ALT ALLELEID  \\\n",
              "0          1    879375   950448   C   T   929884   \n",
              "1          1    899892   916564   C   A   904889   \n",
              "2          1    949363  1028857   G   A  1015460   \n",
              "3          1    949523   183381   C   T   181485   \n",
              "4          1    949696   161455   C  CG   171289   \n",
              "...      ...       ...      ...  ..  ..      ...   \n",
              "164411    22  51169571   816970   G   A   806141   \n",
              "164412    22  51169600  1176013   C   A  1166410   \n",
              "164413    22  51169630   452885   G   A   446437   \n",
              "164414    22  51169673   546212   T   C   537027   \n",
              "164415    22  51169680   985620   C  CA   974264   \n",
              "\n",
              "                                                 CLNDISDB  \\\n",
              "0                                         MedGen:CN517202   \n",
              "1       Human_Phenotype_Ontology:HP:0002575,MONDO:MOND...   \n",
              "2       MONDO:MONDO:0014502,MedGen:C4015293,OMIM:61612...   \n",
              "3       MONDO:MONDO:0014502,MedGen:C4015293,OMIM:61612...   \n",
              "4       MONDO:MONDO:0014502,MedGen:C4015293,OMIM:61612...   \n",
              "...                                                   ...   \n",
              "164411                                    MedGen:CN517202   \n",
              "164412                                    MedGen:CN517202   \n",
              "164413                                    MedGen:CN517202   \n",
              "164414                                    MedGen:CN517202   \n",
              "164415                       MeSH:D030342,MedGen:C0950123   \n",
              "\n",
              "                           CLNHGVS             CLNSIG  \\\n",
              "0         NC_000001.10:g.879375C>T         Pathogenic   \n",
              "1         NC_000001.10:g.899892C>A  Likely_pathogenic   \n",
              "2         NC_000001.10:g.949363G>A         Pathogenic   \n",
              "3         NC_000001.10:g.949523C>T         Pathogenic   \n",
              "4         NC_000001.10:g.949699dup         Pathogenic   \n",
              "...                            ...                ...   \n",
              "164411  NC_000022.10:g.51169571G>A         Pathogenic   \n",
              "164412  NC_000022.10:g.51169600C>A  Likely_pathogenic   \n",
              "164413  NC_000022.10:g.51169630G>A         Pathogenic   \n",
              "164414  NC_000022.10:g.51169673T>C  Likely_pathogenic   \n",
              "164415  NC_000022.10:g.51169681dup  Likely_pathogenic   \n",
              "\n",
              "                            CLNVC                                  MC AF_ESP  \\\n",
              "0       single_nucleotide_variant                 SO:0001587|nonsense          \n",
              "1       single_nucleotide_variant         SO:0001583|missense_variant          \n",
              "2       single_nucleotide_variant  SO:0001574|splice_acceptor_variant          \n",
              "3       single_nucleotide_variant                 SO:0001587|nonsense          \n",
              "4                     Duplication       SO:0001589|frameshift_variant          \n",
              "...                           ...                                 ...    ...   \n",
              "164411  single_nucleotide_variant                 SO:0001587|nonsense          \n",
              "164412  single_nucleotide_variant         SO:0001583|missense_variant          \n",
              "164413  single_nucleotide_variant         SO:0001583|missense_variant          \n",
              "164414  single_nucleotide_variant         SO:0001583|missense_variant          \n",
              "164415                Duplication       SO:0001589|frameshift_variant          \n",
              "\n",
              "       AF_EXAC AF_TGP          RS CLNSIGCONF CLNDISDBINCL       GENEINFO  \n",
              "0                       761448939                          SAMD11:148398  \n",
              "1                       756054473                          KLHL17:339451  \n",
              "2                      1644247121                             ISG15:9636  \n",
              "3                       786201005                             ISG15:9636  \n",
              "4                       672601345                             ISG15:9636  \n",
              "...        ...    ...         ...        ...          ...            ...  \n",
              "164411                 1603447383                           SHANK3:85358  \n",
              "164412                                                      SHANK3:85358  \n",
              "164413                 1555910944                           SHANK3:85358  \n",
              "164414                 1555910948                           SHANK3:85358  \n",
              "164415                 2083362624                           SHANK3:85358  \n",
              "\n",
              "[164416 rows x 18 columns]>"
            ]
          },
          "metadata": {},
          "execution_count": 25
        }
      ]
    }
  ]
}