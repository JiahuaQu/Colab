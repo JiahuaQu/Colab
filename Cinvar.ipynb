{
  "nbformat": 4,
  "nbformat_minor": 0,
  "metadata": {
    "colab": {
      "name": "Untitled0.ipynb",
      "provenance": [],
      "collapsed_sections": [],
      "authorship_tag": "ABX9TyNmouLkdjY4O4bvlnb+UpvW",
      "include_colab_link": true
    },
    "kernelspec": {
      "name": "python3",
      "display_name": "Python 3"
    },
    "language_info": {
      "name": "python"
    }
  },
  "cells": [
    {
      "cell_type": "markdown",
      "metadata": {
        "id": "view-in-github",
        "colab_type": "text"
      },
      "source": [
        "<a href=\"https://colab.research.google.com/github/JiahuaQu/Colab/blob/main/Cinvar.ipynb\" target=\"_parent\"><img src=\"https://colab.research.google.com/assets/colab-badge.svg\" alt=\"Open In Colab\"/></a>"
      ]
    },
    {
      "cell_type": "code",
      "execution_count": 1,
      "metadata": {
        "colab": {
          "base_uri": "https://localhost:8080/"
        },
        "id": "IYjnDU2rFulF",
        "outputId": "5922ab28-5559-4c9f-dc38-7890bca08d17"
      },
      "outputs": [
        {
          "output_type": "stream",
          "name": "stdout",
          "text": [
            "--2022-06-29 16:35:10--  https://ftp.ncbi.nlm.nih.gov/pub/clinvar/vcf_GRCh37/clinvar.vcf.gz\n",
            "Resolving ftp.ncbi.nlm.nih.gov (ftp.ncbi.nlm.nih.gov)... 130.14.250.7, 130.14.250.11, 2607:f220:41e:250::7, ...\n",
            "Connecting to ftp.ncbi.nlm.nih.gov (ftp.ncbi.nlm.nih.gov)|130.14.250.7|:443... connected.\n",
            "HTTP request sent, awaiting response... 200 OK\n",
            "Length: 58394261 (56M) [application/x-gzip]\n",
            "Saving to: ‘clinvar.vcf.gz’\n",
            "\n",
            "clinvar.vcf.gz      100%[===================>]  55.69M  96.4MB/s    in 0.6s    \n",
            "\n",
            "2022-06-29 16:35:11 (96.4 MB/s) - ‘clinvar.vcf.gz’ saved [58394261/58394261]\n",
            "\n"
          ]
        }
      ],
      "source": [
        "!wget https://ftp.ncbi.nlm.nih.gov/pub/clinvar/vcf_GRCh37/clinvar.vcf.gz"
      ]
    },
    {
      "cell_type": "code",
      "source": [
        "!gzip -dk \"clinvar.vcf.gz\""
      ],
      "metadata": {
        "id": "TBJ-96BLUeWb"
      },
      "execution_count": 9,
      "outputs": []
    },
    {
      "cell_type": "code",
      "source": [
        "import pandas as pd\n",
        "import numpy as np"
      ],
      "metadata": {
        "id": "SosQufpvR9aV"
      },
      "execution_count": 10,
      "outputs": []
    },
    {
      "cell_type": "code",
      "source": [
        "clinvar = open('clinvar.vcf', 'r')"
      ],
      "metadata": {
        "id": "OSZQWAsMKED0"
      },
      "execution_count": 11,
      "outputs": []
    },
    {
      "cell_type": "code",
      "source": [
        "list_non_parsed_plp = []\n",
        "list_of_abbreviated_plp = []\n",
        "desired_info_fields = ['ALLELEID', 'CLNDISDB', 'CLNHGVS', 'CLNSIG', 'CLNVC', 'MC', 'AF_ESP', 'AF_EXAC', 'AF_TGP', 'RS', 'CLNSIGCONF', 'CLNDISDBINCL', 'GENEINFO']"
      ],
      "metadata": {
        "id": "lhSyFD4gSBab"
      },
      "execution_count": 4,
      "outputs": []
    },
    {
      "cell_type": "code",
      "source": [
        "for line in clinvar:\n",
        "\n",
        "    plp_non_conf = False # pathogenic or likely pathogenic with no conflicts\n",
        "\n",
        "    # Remove header lines\n",
        "    if line.startswith(\"#\"):\n",
        "        continue\n",
        "\n",
        "    # Get all fields into separate list item\n",
        "    split_line = line.split(\"\\t\")\n",
        "\n",
        "    # Remove \\n from end of info item\n",
        "    split_line[-1] = split_line[-1].strip(\"\\n\")\n",
        "\n",
        "    # Split info field into component parts\n",
        "    split_info_field = split_line[-1].split(\";\")\n",
        "\n",
        "    # Remove un-split info field\n",
        "    split_line.pop()\n",
        "\n",
        "    # Add each info item to the split line\n",
        "    for info_item in split_info_field:\n",
        "        split_line.append(info_item)\n",
        "\n",
        "    # Find if the line is an autosomal recessive plp with no conflicts\n",
        "    for field in split_line:\n",
        "        if field[0:7] == \"CLNSIG=\":\n",
        "            if (\"athogenic\" in field) and (\"onflict\" not in field):\n",
        "                plp_non_conf = True\n",
        "\n",
        "    # If plp with no conflicts, add it to the list\n",
        "    if plp_non_conf:\n",
        "        list_non_parsed_plp.append(split_line)\n",
        "\n",
        "print(\"Done extracting AR non-conflicting PLP to list_non_parsed_plp\")"
      ],
      "metadata": {
        "colab": {
          "base_uri": "https://localhost:8080/",
          "height": 235
        },
        "id": "6Y-lCrifMErG",
        "outputId": "fab6979c-d585-4537-ce70-e7ea3b2b7f9c"
      },
      "execution_count": 5,
      "outputs": [
        {
          "output_type": "error",
          "ename": "AttributeError",
          "evalue": "ignored",
          "traceback": [
            "\u001b[0;31m---------------------------------------------------------------------------\u001b[0m",
            "\u001b[0;31mAttributeError\u001b[0m                            Traceback (most recent call last)",
            "\u001b[0;32m<ipython-input-5-a13f7516fd4b>\u001b[0m in \u001b[0;36m<module>\u001b[0;34m()\u001b[0m\n\u001b[1;32m      4\u001b[0m \u001b[0;34m\u001b[0m\u001b[0m\n\u001b[1;32m      5\u001b[0m     \u001b[0;31m# Remove header lines\u001b[0m\u001b[0;34m\u001b[0m\u001b[0;34m\u001b[0m\u001b[0;34m\u001b[0m\u001b[0m\n\u001b[0;32m----> 6\u001b[0;31m     \u001b[0;32mif\u001b[0m \u001b[0mline\u001b[0m\u001b[0;34m.\u001b[0m\u001b[0mstartswith\u001b[0m\u001b[0;34m(\u001b[0m\u001b[0;34m\"#\"\u001b[0m\u001b[0;34m)\u001b[0m\u001b[0;34m:\u001b[0m\u001b[0;34m\u001b[0m\u001b[0;34m\u001b[0m\u001b[0m\n\u001b[0m\u001b[1;32m      7\u001b[0m         \u001b[0;32mcontinue\u001b[0m\u001b[0;34m\u001b[0m\u001b[0;34m\u001b[0m\u001b[0m\n\u001b[1;32m      8\u001b[0m \u001b[0;34m\u001b[0m\u001b[0m\n",
            "\u001b[0;31mAttributeError\u001b[0m: 'int' object has no attribute 'startswith'"
          ]
        }
      ]
    }
  ]
}